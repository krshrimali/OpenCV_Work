{
 "cells": [
  {
   "cell_type": "code",
   "execution_count": 112,
   "metadata": {
    "collapsed": true
   },
   "outputs": [],
   "source": [
    "try:\n",
    "    import cv2\n",
    "except ImportError:\n",
    "    print('cv2 not found')\n",
    "\n",
    "try:\n",
    "    import matplotlib.pyplot as plt\n",
    "except ImportError:\n",
    "    print('matplotlib not found')\n",
    "  \n",
    "try:\n",
    "    import numpy as np\n",
    "except ImportError:\n",
    "    print('numpy not found')\n",
    "\n",
    "%matplotlib inline"
   ]
  },
  {
   "cell_type": "code",
   "execution_count": 96,
   "metadata": {
    "collapsed": true
   },
   "outputs": [],
   "source": [
    "# utility functions\n",
    "def show(img):\n",
    "    try:\n",
    "        cv2.imshow('img', img)\n",
    "        cv2.waitKey(0)\n",
    "        cv2.destroyAllWindows()\n",
    "    except ModuleNotFoundError:\n",
    "        print('Module not found, try and import it again.')"
   ]
  },
  {
   "cell_type": "code",
   "execution_count": 130,
   "metadata": {},
   "outputs": [],
   "source": [
    "cap = cv2.VideoCapture(0)\n",
    "count = 0\n",
    "# exit_ = 'NO'\n",
    "while(True):\n",
    "    ret, frame = cap.read()\n",
    "    if(ret == False):\n",
    "        print(\"Unable to read frame from the camera\")\n",
    "        \n",
    "    hsv = cv2.cvtColor(frame, cv2.COLOR_BGR2HSV)\n",
    "#     (avg(hsv))\n",
    "    if(count == 0):\n",
    "        gap = (avg(frame[200:300, 100:300]))\n",
    "#         print(gap)\n",
    "        count += 1\n",
    "    lower_red = np.array([gap[0] - 85, gap[1] - 85, gap[2] - 85])\n",
    "    upper_red = np.array([gap[0] + 85, gap[1] + 85, gap[2] + 85])\n",
    "    \n",
    "    mask = cv2.inRange(hsv, lower_red, upper_red)\n",
    "#     show(frame)\n",
    "#     show(mask)\n",
    "    rest = cv2.bitwise_and(frame, frame, mask = mask)\n",
    "    \n",
    "    cv2.imshow('frame', frame[200:300, 100:300])\n",
    "    cv2.imshow('rest', rest)\n",
    "    cv2.imshow('mask', mask)\n",
    "    \n",
    "    k = cv2.waitKey(5) & 0xFF\n",
    "    if(k == 27):\n",
    "        break\n",
    "#     print(mask)\n",
    "    \n",
    "#     exit_ = str(input())\n",
    "cv2.destroyAllWindows()\n",
    "cap.release()"
   ]
  },
  {
   "cell_type": "code",
   "execution_count": 129,
   "metadata": {
    "collapsed": true
   },
   "outputs": [],
   "source": [
    "cap.release()"
   ]
  },
  {
   "cell_type": "code",
   "execution_count": 113,
   "metadata": {
    "collapsed": true
   },
   "outputs": [],
   "source": [
    "def avg(arr):\n",
    "    count = 0\n",
    "    sum_x = 0\n",
    "    sum_y = 0\n",
    "    sum_z = 0\n",
    "#     count = \n",
    "    for i in range(img.shape[0]):\n",
    "        for j in range(img.shape[1]):\n",
    "#             print(img[i][j])\n",
    "            count += 1\n",
    "            sum_x += img[i][j][0]\n",
    "            sum_y += img[i][j][1]\n",
    "            sum_z += img[i][j][2]\n",
    "#             print(sum_x)\n",
    "#     print(count)\n",
    "    \n",
    "    return(sum_x/count, sum_y/count, sum_z/count)\n",
    "#     for i in img:\n",
    "#         for j in i:\n",
    "#             print(j[0])\n",
    "#             sum_x += j[0]\n",
    "#             sum_x += j[0]\n",
    "#             print(j[0][0])\n",
    "#     print(sum_x/len(arr))\n",
    "#     sum_x = 0\n",
    "#     sum_y = 0\n",
    "#     sum_z = 0\n",
    "#     for i in arr[0]:\n",
    "#         sum_x += i\n",
    "#     for i in arr[1]:\n",
    "#         sum_y += i\n",
    "#     for i in arr[2]:\n",
    "#         sum_z += i\n",
    "#     print(sum_x)\n",
    "#     print(sum_y)\n",
    "#     print(sum_z)"
   ]
  },
  {
   "cell_type": "code",
   "execution_count": null,
   "metadata": {
    "collapsed": true
   },
   "outputs": [],
   "source": []
  }
 ],
 "metadata": {
  "kernelspec": {
   "display_name": "Python 3",
   "language": "python",
   "name": "python3"
  },
  "language_info": {
   "codemirror_mode": {
    "name": "ipython",
    "version": 3
   },
   "file_extension": ".py",
   "mimetype": "text/x-python",
   "name": "python",
   "nbconvert_exporter": "python",
   "pygments_lexer": "ipython3",
   "version": "3.6.1"
  }
 },
 "nbformat": 4,
 "nbformat_minor": 2
}
